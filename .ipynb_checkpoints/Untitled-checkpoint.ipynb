{
 "cells": [
  {
   "cell_type": "code",
   "execution_count": 1,
   "id": "1413134b-f46a-4944-a100-8d76e6b522c3",
   "metadata": {},
   "outputs": [
    {
     "name": "stdout",
     "output_type": "stream",
     "text": [
      "$2b$12$TYpQCPhTVSfkDzkKPFgsb.Uwfb9YHjjoP64g55MBfm371b86LXd5G\n"
     ]
    }
   ],
   "source": [
    "import bcrypt\n",
    "\n",
    "password = \"admin123\"  # 🔑 Change this to your desired admin password\n",
    "hashed = bcrypt.hashpw(password.encode(), bcrypt.gensalt()).decode()\n",
    "print(hashed)"
   ]
  },
  {
   "cell_type": "code",
   "execution_count": 14,
   "id": "1af70732-8d52-4a83-b5cd-742f0b1435c7",
   "metadata": {},
   "outputs": [],
   "source": [
    "from werkzeug.security import generate_password_hash\n",
    "from sqlalchemy import text\n",
    "from db.database import get_engine\n",
    "\n",
    "engine = get_engine()\n",
    "with engine.begin() as conn:\n",
    "    conn.execute(text(\"\"\"\n",
    "        INSERT INTO users (username, password, role)\n",
    "        VALUES (:username, :password, :role)\n",
    "    \"\"\"), {\n",
    "        \"username\": \"admin\",\n",
    "        \"password\": generate_password_hash(\"admin123\"),  # secure hash\n",
    "        \"role\": \"admin\"\n",
    "    })\n"
   ]
  },
  {
   "cell_type": "code",
   "execution_count": 12,
   "id": "f404b159-f9ef-4010-aeb8-2e9efdc2e6d3",
   "metadata": {},
   "outputs": [],
   "source": [
    "engine = get_engine()\n",
    "with engine.begin() as conn:\n",
    "    conn.execute(text(\"\"\"\n",
    "        DELETE FROM users WHERE username = :username\n",
    "    \"\"\"), {\n",
    "        \"username\": \"admin\"\n",
    "    })\n"
   ]
  },
  {
   "cell_type": "code",
   "execution_count": 32,
   "id": "1a25ee76-266d-4163-8fff-fb2c3280ef0e",
   "metadata": {},
   "outputs": [],
   "source": [
    "from sqlalchemy import text\n",
    "from db.database import get_engine\n",
    "\n",
    "engine = get_engine()\n",
    "with engine.begin() as conn:\n",
    "    conn.execute(text(\"DROP TABLE IF EXISTS users\"))\n",
    "    conn.execute(text(\"\"\"\n",
    "        CREATE TABLE users (\n",
    "            id INTEGER PRIMARY KEY AUTOINCREMENT,\n",
    "            username TEXT NOT NULL UNIQUE,\n",
    "            password TEXT NOT NULL,\n",
    "            role TEXT DEFAULT 'viewer'\n",
    "        )\n",
    "    \"\"\"))\n"
   ]
  },
  {
   "cell_type": "code",
   "execution_count": null,
   "id": "871046ca-6102-4ff0-bbca-a5ec50c72684",
   "metadata": {},
   "outputs": [],
   "source": []
  }
 ],
 "metadata": {
  "kernelspec": {
   "display_name": "Python 3 (ipykernel)",
   "language": "python",
   "name": "python3"
  },
  "language_info": {
   "codemirror_mode": {
    "name": "ipython",
    "version": 3
   },
   "file_extension": ".py",
   "mimetype": "text/x-python",
   "name": "python",
   "nbconvert_exporter": "python",
   "pygments_lexer": "ipython3",
   "version": "3.12.4"
  }
 },
 "nbformat": 4,
 "nbformat_minor": 5
}
